{
 "cells": [
  {
   "cell_type": "markdown",
   "id": "0c27a818",
   "metadata": {},
   "source": [
    "# Yashwant Desai –  Python_Advanced_Assignment_17"
   ]
  },
  {
   "cell_type": "markdown",
   "id": "8ebc0b57",
   "metadata": {},
   "source": [
    "# Q1. Explain the difference between greedy and non-greedy syntax with visual terms in as few words as possible. What is the bare minimum effort required to transform a greedy pattern into a non-greedy one? What characters or characters can you introduce or change?"
   ]
  },
  {
   "cell_type": "markdown",
   "id": "d6858b36",
   "metadata": {},
   "source": [
    "Greedy syntax seeks the longest match, while non-greedy (lazy) syntax seeks the shortest match. To transform a greedy pattern into a non-greedy one in Python, add a \"?\" after a quantifier (e.g., \"*?\" or \"+?\") to make it non-greedy."
   ]
  },
  {
   "cell_type": "markdown",
   "id": "1a88121d",
   "metadata": {},
   "source": [
    "# Q2. When exactly does greedy versus non-greedy make a difference?  What if you're looking for a non-greedy match but the only one available is greedy?"
   ]
  },
  {
   "cell_type": "markdown",
   "id": "dd957d73",
   "metadata": {},
   "source": [
    "Greedy versus non-greedy makes a difference in scenarios where you have multiple possible matches in a text, and you want to capture the shortest or longest match. Greedy matches the longest, and non-greedy matches the shortest.\n",
    "\n",
    "If you need a non-greedy match but only have a greedy option, you can use non-greedy quantifiers to modify the greedy pattern. However, if the pattern doesn't allow a non-greedy solution, you may need to rethink your regex pattern or use additional logic to extract the desired match."
   ]
  },
  {
   "cell_type": "markdown",
   "id": "8c8acbbb",
   "metadata": {},
   "source": [
    "# Q3. In a simple match of a string, which looks only for one match and does not do any replacement, is the use of a nontagged group likely to make any practical difference?"
   ]
  },
  {
   "cell_type": "markdown",
   "id": "afb95f13",
   "metadata": {},
   "source": [
    "In a simple match of a string where you are only looking for one match and not doing any replacement, the use of a non-capturing group (a group with \"?:\") would not make any practical difference. Non-capturing groups are typically used when you want to group a subpattern but don't need to capture the matched text for further use. In a simple match, where you are not capturing or referencing the matched text, using a non-capturing group is unnecessary. You can use a regular (capturing) group for such cases."
   ]
  },
  {
   "cell_type": "markdown",
   "id": "b76059f1",
   "metadata": {},
   "source": [
    "# Q4. Describe a scenario in which using a nontagged category would have a significant impact on the program's outcomes."
   ]
  },
  {
   "cell_type": "markdown",
   "id": "ba006b85",
   "metadata": {},
   "source": [
    "Using a nontagged category can have a significant impact on the program's outcomes in situations where you want to group a subpattern for logical organization but explicitly don't want that group to affect the capture group indices returned by the regular expression match. This is particularly useful in complex regular expressions and when you are using the re module for tasks like extracting data from structured text,tokenizing text etc."
   ]
  },
  {
   "cell_type": "code",
   "execution_count": 1,
   "id": "ccc457be",
   "metadata": {},
   "outputs": [
    {
     "name": "stdout",
     "output_type": "stream",
     "text": [
      "['Hello', 'World', '2023']\n"
     ]
    }
   ],
   "source": [
    "import re\n",
    "text = \"Hello, World! (2023)\"\n",
    "pattern = r\"(?:\\b\\w+\\b|[0-9]+)\"\n",
    "tokens = re.findall(pattern, text)\n",
    "print(tokens)"
   ]
  },
  {
   "cell_type": "markdown",
   "id": "2f2fd9fe",
   "metadata": {},
   "source": [
    "In this example, the regular expression tokenizes the text into words and numbers while excluding non-word characters. The non-capturing group (?:\\b\\w+\\b|[0-9]+) ensures that the delimiters and non-word characters are not captured as separate tokens. This results in a cleaner and more focused list of tokens.Non-capturing groups are beneficial when you want to structure your regular expression for tokenization tasks while avoiding unwanted captures."
   ]
  },
  {
   "cell_type": "markdown",
   "id": "c64dc3c0",
   "metadata": {},
   "source": [
    "# Q5. Unlike a normal regex pattern, a look-ahead condition does not consume the characters it examines. Describe a situation in which this could make a difference in the results of your programme."
   ]
  },
  {
   "cell_type": "markdown",
   "id": "afb8572c",
   "metadata": {},
   "source": [
    "A situation where the non-consumptive nature of look-ahead conditions can make a significant difference in the results of your program is when you need to match specific patterns only if they are followed by or not followed by other specific patterns.\n",
    "\n",
    "In below example the negative look-ahead condition \"?! pie\" ensures that \"apple\" is matched only if it's not followed by \"pie.\" Without the look-ahead, a regular expression might capture \"apple\" in both \"apple pie\" and \"apple cobbler,\" but with the look-ahead, it correctly excludes the \"apple pie\" instance, resulting in a different and more precise set of matches."
   ]
  },
  {
   "cell_type": "code",
   "execution_count": 2,
   "id": "09b9c106",
   "metadata": {},
   "outputs": [
    {
     "name": "stdout",
     "output_type": "stream",
     "text": [
      "['apple']\n"
     ]
    }
   ],
   "source": [
    "import re\n",
    "text = \"I like apple pie, but I prefer apple cobbler.\"\n",
    "pattern = r\"apple(?! pie)\"\n",
    "matches = re.findall(pattern, text)\n",
    "print(matches)"
   ]
  },
  {
   "cell_type": "markdown",
   "id": "912e126e",
   "metadata": {},
   "source": [
    "# Q6. In standard expressions, what is the difference between positive look-ahead and negative look-ahead?"
   ]
  },
  {
   "cell_type": "markdown",
   "id": "c2dd90ef",
   "metadata": {},
   "source": [
    "Below are the differences between positive look-ahead and negative look-ahead\n",
    "\n",
    "o Positive look-ahead asserts that a subpattern is present immediately ahead of the current position.\n",
    "\n",
    "o Negative look-ahead asserts that a subpattern is absent immediately ahead of the current position.\n",
    "\n",
    "o Positive look-ahead syntax is (?=...)\n",
    "\n",
    "o Negative look-ahead syntax is (?!...)\n",
    "\n",
    "o Positive look-ahead ensures that the subpattern is there but does not consume the characters it matches.\n",
    "\n",
    "o Negative look-ahead ensures that the subpattern is absent and does not consume the characters it matches."
   ]
  },
  {
   "cell_type": "markdown",
   "id": "99d5f605",
   "metadata": {},
   "source": [
    "# Q7. What is the benefit of referring to groups by name rather than by number in a standard expression?"
   ]
  },
  {
   "cell_type": "markdown",
   "id": "9e020c98",
   "metadata": {},
   "source": [
    "Below are benefits of referring to group by name rather than by number\n",
    "\n",
    "o Improved Readability - Named groups make your regular expressions more self-explanatory by giving meaningful names\n",
    "\n",
    "o Self-Documenting Code - Named groups act as documentation within your code, making it clear what each group represents\n",
    "\n",
    "o Robustness - Named groups are more resilient to changes in the regex pattern because you refer to them by their names, not their positions.\n",
    "\n",
    "o Maintainability - To modify the regular expression or the captured group, you don't have to recheck and potentially update every reference to the group in your code. With names, the references remain consistent\n",
    "\n",
    "o Error Reduction - Named groups help reduce errors in your code. It's easier to spot and fix issues when you use descriptive names rather than cryptic indices\n"
   ]
  },
  {
   "cell_type": "markdown",
   "id": "c93288a7",
   "metadata": {},
   "source": [
    "# Q8. Can you identify repeated items within a target string using named groups, as in \"The cow jumped over the moon\"?"
   ]
  },
  {
   "cell_type": "markdown",
   "id": "306bfe04",
   "metadata": {},
   "source": [
    "Yes we can identify repeated items within a target string using named capturing groups in regular expressions. Named groups are more suitable for capturing and extracting specific patterns that may occur multiple times in a string."
   ]
  },
  {
   "cell_type": "code",
   "execution_count": 3,
   "id": "6508689a",
   "metadata": {},
   "outputs": [],
   "source": [
    "import re\n",
    "text = \"The cow jumped over the moon\"\n",
    "pattern = r'\\b(?P<word>\\w+)\\b'\n",
    "matches = re.finditer(pattern, text)\n",
    "\n",
    "word_count = {}\n",
    "for match in matches:\n",
    "    word = match.group('word')\n",
    "    if word in word_count:\n",
    "        word_count[word] += 1\n",
    "    else:\n",
    "        word_count[word] = 1\n",
    "\n",
    "for word, count in word_count.items():\n",
    "    if count > 1:\n",
    "        print(f\"{word} is repeated {count} times.\")"
   ]
  },
  {
   "cell_type": "markdown",
   "id": "bd863a15",
   "metadata": {},
   "source": [
    "# Q9. When parsing a string, what is at least one thing that the Scanner interface does for you that the re.findall feature does not?"
   ]
  },
  {
   "cell_type": "markdown",
   "id": "1e123e6f",
   "metadata": {},
   "source": [
    "Here are some things that a custom Scanner class or a custom parsing solution might offer over re.findall:\n",
    "\n",
    "o Fine-Grained Control: A custom Scanner can provide more fine-grained control over the parsing process. You can design it to handle complex patterns and logic that might not be easily achievable with a simple regular expression.\n",
    "\n",
    "o Stateful Parsing: Scanner classes can maintain a state between different calls, making it suitable for parsing languages or formats where context or state is important.\n",
    "\n",
    "o Callbacks: You can implement callbacks or custom functions to be executed upon encountering specific patterns, which might be more difficult with re.findall alone.\n",
    "\n",
    "o Custom Error Handling: A custom Scanner can be designed to handle errors or exceptional cases during parsing in a way that fits your specific requirements.\n",
    "\n",
    "o Complex Matching Logic: If your parsing requirements involve complex matching logic that can't be expressed easily in a regular expression, a custom Scanner can be more flexible."
   ]
  },
  {
   "cell_type": "markdown",
   "id": "2ec14857",
   "metadata": {},
   "source": [
    "# Q10. Does a scanner object have to be named scanner?"
   ]
  },
  {
   "cell_type": "markdown",
   "id": "262bf9df",
   "metadata": {},
   "source": [
    "No, a scanner object doesn't have to be named \"scanner.\" You can name a scanner object whatever you like, as long as the variable name adheres to Python's naming conventions e.g., no spaces, starts with a letter or underscore, consists of letters, numbers, and underscores."
   ]
  },
  {
   "cell_type": "markdown",
   "id": "dda7d5b1",
   "metadata": {},
   "source": [
    "# Done all 10 questions "
   ]
  },
  {
   "cell_type": "markdown",
   "id": "a04469f9",
   "metadata": {},
   "source": [
    "# Regards,Yashwant"
   ]
  }
 ],
 "metadata": {
  "kernelspec": {
   "display_name": "Python 3 (ipykernel)",
   "language": "python",
   "name": "python3"
  },
  "language_info": {
   "codemirror_mode": {
    "name": "ipython",
    "version": 3
   },
   "file_extension": ".py",
   "mimetype": "text/x-python",
   "name": "python",
   "nbconvert_exporter": "python",
   "pygments_lexer": "ipython3",
   "version": "3.9.13"
  }
 },
 "nbformat": 4,
 "nbformat_minor": 5
}
